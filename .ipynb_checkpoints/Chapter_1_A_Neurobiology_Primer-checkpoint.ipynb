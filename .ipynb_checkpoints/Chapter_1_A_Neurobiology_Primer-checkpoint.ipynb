{
 "cells": [
  {
   "cell_type": "markdown",
   "id": "89ab1b1e",
   "metadata": {},
   "source": [
    "# Chapter 1: A Neurobiology Primer"
   ]
  },
  {
   "cell_type": "markdown",
   "id": "37e2e59a",
   "metadata": {},
   "source": [
    "## Cells"
   ]
  },
  {
   "cell_type": "markdown",
   "id": "29e87614",
   "metadata": {},
   "source": [
    "## Biological Macromolecules"
   ]
  },
  {
   "cell_type": "code",
   "execution_count": null,
   "id": "8e1b62ac",
   "metadata": {},
   "outputs": [],
   "source": []
  }
 ],
 "metadata": {
  "kernelspec": {
   "display_name": "Python 3",
   "language": "python",
   "name": "python3"
  },
  "language_info": {
   "codemirror_mode": {
    "name": "ipython",
    "version": 3
   },
   "file_extension": ".py",
   "mimetype": "text/x-python",
   "name": "python",
   "nbconvert_exporter": "python",
   "pygments_lexer": "ipython3",
   "version": "3.7.7"
  }
 },
 "nbformat": 4,
 "nbformat_minor": 5
}
