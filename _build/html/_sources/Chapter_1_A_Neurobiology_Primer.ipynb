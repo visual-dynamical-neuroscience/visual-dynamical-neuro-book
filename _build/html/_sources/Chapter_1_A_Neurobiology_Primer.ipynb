{
 "cells": [
  {
   "cell_type": "markdown",
   "id": "f80ea4f8",
   "metadata": {},
   "source": [
    "# Chapter 1: A Neurobiology Primer\n",
    "\n",
    "```{caution} This book was initially prepared on short notice and is an ongoing, ever-evolving project. Many of the ideas, simulations, and visualizations here are incomplete, and most are missing citations. If you feel that I have neglected to cite the proper sources, please do not be offended. It is more than likely that I am in the processes of adding the relevant citations.\n",
    "```"
   ]
  },
  {
   "cell_type": "markdown",
   "id": "c2dcc22f",
   "metadata": {},
   "source": [
    "## What is Life?\n",
    "\n",
    "You may be wondering how we are going to address such a vast question in what is meant to be a short primer on the biology of the nervous system. The short answer is that we have no hope of doing so. The longer answer is that even though we cannot provide a comprehensive account of life and all its varied manifestations, This is, after all, a course on theoretical neurobiology, and to simply give a list of known facts about the living world would be antithetical to the aims and spirit of the course.\n",
    "\n",
    "### Schrödinger's Exploration\n",
    "\n",
    "\n",
    "### Life-Mind Continuity"
   ]
  },
  {
   "cell_type": "markdown",
   "id": "8e808762",
   "metadata": {},
   "source": [
    "## The Facts of the Matter\n",
    "\n",
    "### Cells\n",
    "\n",
    "\n",
    "### Biological Macromolecules"
   ]
  },
  {
   "cell_type": "code",
   "execution_count": null,
   "id": "e22a9ce4",
   "metadata": {},
   "outputs": [],
   "source": []
  }
 ],
 "metadata": {
  "jupytext": {
   "text_representation": {
    "extension": ".md",
    "format_name": "myst",
    "format_version": 0.13,
    "jupytext_version": "1.11.5"
   }
  },
  "kernelspec": {
   "display_name": "Python 3",
   "language": "python",
   "name": "python3"
  },
  "language_info": {
   "codemirror_mode": {
    "name": "ipython",
    "version": 3
   },
   "file_extension": ".py",
   "mimetype": "text/x-python",
   "name": "python",
   "nbconvert_exporter": "python",
   "pygments_lexer": "ipython3",
   "version": "3.7.7"
  },
  "source_map": [
   12,
   19,
   30,
   39
  ]
 },
 "nbformat": 4,
 "nbformat_minor": 5
}