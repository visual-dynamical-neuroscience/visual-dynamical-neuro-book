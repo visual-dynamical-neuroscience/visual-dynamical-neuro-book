{
 "cells": [
  {
   "cell_type": "markdown",
   "id": "d0609c85",
   "metadata": {},
   "source": [
    "# Prolegomena: The Mathematical Modeling of Nature\n",
    "\n",
    "```{caution} This book was initially prepared on short notice and is an ongoing, ever-evolving project. Many of the ideas, simulations, and visualizations here are incomplete, and most are missing citations. If you feel that I have neglected to cite the proper sources, please do not be offended. It is more than likely that I am in the processes of adding the relevant citations.\n",
    "```"
   ]
  },
  {
   "cell_type": "code",
   "execution_count": 1,
   "id": "5d751bb3",
   "metadata": {
    "tags": [
     "remove-cell"
    ]
   },
   "outputs": [],
   "source": [
    "from IPython.display import YouTubeVideo"
   ]
  },
  {
   "cell_type": "markdown",
   "id": "2c5b591c",
   "metadata": {},
   "source": [
    "## What is Modeling Anyway, and Why do We do It?\n",
    "\n",
    "This is not a course on the philosophy of science, nor is it a course on the philosophy of mathematics. However, we'll need a little bit of both to understand what we're doing here and why it's important. Why philosophy? It's common for young scientists (and even many older ones!) to be skeptical of the role of philosophy in scientific practice. This is understandable. They are interested in *phenomena* like the spread of viruses or the formation of stars, not armchair ideas about human nature and the meaning of life. But philosophy is about so much more than these tropes. \n",
    "\n",
    "So many courses and textbooks simply dive right in to their subject matter without explicitly providing context. Why are we studying this topic? How can a working knowledge of this subject help me think about and solve problems that matter to me? How does this subject relate to all the others I am studying? When these questions go unanswered, students are likely to traverse the course in a bit of a daze, trying to piece together the big picture and wasting time on red herrings. A little philosophy of science will go a long way in helping answer these questions in the context of this course. Moreover, these questions serve to illuminate the role of philosophy, which is concerned with answering questions like these, but on a much grander scale than any single course or subject. \n",
    "\n",
    "In the words of the philosopher Wilfred Sellars, philosophy is about figuring out \"how things in the broadest possible sense of the term hang together in the broadest possible sense of the term. More concretely, philosopher Peter Godfrey-Smith has identified three roles for philosophy: the integrative, incubator, and educational roles.\n",
    "\n",
    "In its integrative role, philosophy looks across disciplines and asks how they relate to each other. How does our commonsense view of the world relate to the views painted by physics, biology, and the other sciences? What is the relationship of physics to biology, chemistry, etc.? Philosophy asks questions like these, questions that seek to integrate different fields of study. In its incubator role, philosophy develops speculative and broad ideas that are later made more specific and find their way into empirical and theoretical science in some form. In its educational role, philosophy provides students with a set of skills for critical and analytical thinking.\n",
    "\n",
    "There is a continuum between philosophy and theoretical science. This continuum is nicely illustrated by the three levels of theory described by Francisco Varela and Wilfred Stein in their intro to the book *Thinking About Biology*, so-called *macro-*, *meso-*, and *micro*theories. Here's how they loosely define the three levels:\n",
    "\n",
    ">Macrotheories are the large, imaginative canvases that constitute the conceptual scaffolding of a large portion of biology... Mesotheories, on the other hand, are more numerous. Their level is more modest, as they attempt to cover only a selected domain of biology... Microtheories are phenomenon-specific. Their purpose is to account in some conceptually clean or analytically astute manner for a given set of observations.\n",
    "\n",
    "Much of what Stein and Varela refer to as macrotheory is adjacent to (if not part of) philosophy, especially philosophy of science that is focused on specific fields such as philosophy of physics and philosophy of biology. Macroscopic theoretical science and philosophy often ask the same questions and their methods of inquiry are largely conceptual, focused on figuring out what the right questions are and getting clear on the concepts employed by a particular science. Models, on the other hand, are essentially equivalent to what Stein and Varela call microtheories.\n",
    "\n",
    "Why do we need models? Surely everything we want to know about the world can be discovered by gathering data in experiments? Upon a bit of reflection, the answer is clearly no. Lost to the history of science are chains of reasoning, concept development, assumptions, and metaphors that are now implicit in our scientific practices. Stories about how measurement devices work. The biases and frameworks in which we interpret the data we collect. Whenever we conduct experiments, we typically do so with certain hypotheses in mind, expectations about what we will observe. We analyze the resulting data in terms of those expectations. And where do those hypotheses come from? They are generated by theories. These aspects of scientific practice are collectively known as the *theory-ladenness of observation*. Theories and models not only help us make sense of existing observations, they can also help us predict new ones and design corresponding experiments to test those predictions.\n",
    "\n",
    "The most clear motivation for the use of models (and theory in general) is that there are questions we can pose about the world that simply cannot be answered without a model. One such question is \"What was the size of the Earth's human population in the Paleolithic era (2.5 million years ago)?\". As it turns out, there's not much data we can actually gather to directly answer a question like this. Unlike today, where we can directly answer the question \"How many humans are there on Earth?\" by collecting census data, we cannot go out and count Paleolithic people. To make use of the indirect data we do have, we need a way to relate that data to the quantity we actually care about, namely, the number of living people on Earth during the Paleolithic period.\n",
    "\n",
    "Each of the different kinds of data available to us necessitates a different kind of model. One method, the Cologne Protocol, combines data such as radio carbon dating, burial ground reconstructions, nutritional carrying capacity of geographical regions, and sizes of ancient settlements to estimate the size of the human population during a given period using a statistical model that relates those variables to population size based on what we know of modern human populations. An entirely different procedure attempts to use human genomic data to estimate the size of ancient human populations by fitting statistical models of genetic mutation in human populations using current human genome data. In both methods, one has to use data from our time to fit mathematical models that generate highly uncertain estimates of ancient human population sizes. But for questions like these, there is no other way. \n",
    "\n",
    "### The Difference Between Theories and Models\n",
    "\n",
    "One sometimes sees the words \"theory\" and \"model\" used interchangeably in the scientific literature. Though models and theories are interwoven, there are rough distinctions we can make between them. I could sit for hours staring at my computer screen trying to synthesize definitions for the nebulous concepts \"theory\" and \"model\" from everything I have read on the matter. Or, I can blatantly steal these (necessarily loose) definitions from somebody who has already stated them better than I ever could. In this case, we're going to steal from Dr. Eiko Fried, a psychologist and methodologist at Leiden University. Here's what he has to say about theories: \n",
    "\n",
    "> Theories are bodies of knowledge that are broad in scope and aim to explain phenomena. As I said before, phenomena are robust features of the world. Phenomena can be obtained by observation and common sense (e.g. humans have capacity for language), or by other means, such as fitting statistical models to data (e.g. there is a statistical relation between smoking at time 1 and lung cancer at time 2). Data may contain the phenomenon we are interested in, but also noise (measurement error, experimenter bias, transcription errors). That is why theories explain phenomena, not data... \n",
    "\n",
    "And here's what he has to say about models:\n",
    "\n",
    "> Models, on the other hand, are instantiations of theories, narrower in scope and often more concrete, commonly applied to a particular aspect of a given theory, providing a more local description or understanding of a phenomenon. Evolution and gravitation are theories, but their application to mate selection and the motion of the planets is best done via models. From this perspective, models serve as intermediaries between theories and the real world.\n",
    "\n",
    "We'll return a little later to analyze Fried's last statement about models being intermediaries between theories and the real world, as well as what exactly constitutes a \"body of knowledge\", but for now these are more than serviceable working definitions of theories and models. \n",
    "\n",
    "It is just as helpful to provide negative examples of what we mean by \"theory\" as it is to provide postive ones, examples of what approaches to theory we wish to avoid. A perfect example of the kind of \"theory\" work we should steer clear of is provided by Wilfred Stein and Francisco Varela in their description of a pseudo-fictional man they call the \"anti-hero of theoretical biology\":\n",
    "\n",
    "> To speak of anti-heroes is also a good way of communicating the same point in a negative sense, but it is also more sensitive, and we shall invoke no names. But here is a typical profile. An excellent researcher obtains glory and academic power by steady production in one narrow field of biology, say, the characterization of a particular kind of enzyme. Once installed in this position of power, and usually in his early sixties, our scientist begins to do what he calls \"thinking\". Instead of there being an imaginative productive circulation between his laboratory experience and mature imagination, this \"thinking\" turns into a rather flat repetition of common sense or, worse still, into some very high level speculation about the nature of the soul or about the future of mankind. This is an anti-hero who neither does a service to the field he is familiar with nor to biology at large. Instead, \"theory\" becomes a mere sociological loophole that allows for a public tribune. We wish to distance theoretical biology from such secondary production. Thinking about biology is the very stuff of *doing* research, not an afterthought in someone's career or a social adornment. - Wilfred Stein and Francisco Varela, *Thinking About Biology: An Introductory Essay*\n",
    "\n",
    "\n",
    "### A Spectrum of Formality\n",
    "\n",
    "Theory doesn't usually begin directly with mathematical models. It often begins in that vague half-light of intution. One observes some phenomenon and wonders how to describe what happened and seeks to explain how it happened. Those intial proto-explanations emerge not from careful thinking and experiment, but from what knowledge and ways of perceiving that one has ready at hand. Initially, theories and models might be framed purely in natural language as informal speculations about phenomena. Later, as the need arises, these verbal theories might be formalized into mathematics and the concepts employed carefully refined.\n",
    "\n",
    "Why should we formalize our theories? What use is it to translate them into the language of mathematics? The primary reason is that natural language is ambiguous and imprecise. There are often multiple ways to interpret words and sentences, and it can be unclear what criteria we should use to decide amongst those interpretations. It becomes easier to make decisions about which theories offer better explanations of the phenomena we are interested in if we first translate those theories into mathematics. The process of translation forces us to think carefully about the phenomena and the concepts we employ to explain them. Formal theories go hand in hand with quantitative measurements of the systems we study. After translating our verbally specified theories into math, we can then compare those theories by checking how much each one agrees with the measurements we have made. But this checking procedure only works with formal theories. With verbal theories, it is often not even clear what sort of data, what sorts of measurements, would even count as evidence for our theories. Formalizing our theories and developing mathematical models helps us to understand what kind of data we should gather, which experiments to conduct.\n",
    "\n",
    "One issue with formalization though is that for each verbal specification of a theory that we can come up with, there are many possible ways to formalize that theory, multiple possible translations from natural language into mathematics. Which translation is best cannot be determined until we have gathered enough data against which we can compare the different theories. \n",
    "\n",
    "Hopefully by now you have some sense of the usefulness of theory and mathematical models in science, but you may still feel like you're missing the big picture. What are we really doing when we use mathematical models to guide our scientific practices? How do these models relate to the \"natural world\"? We'll address these questions in the next section.\n",
    "\n",
    "### The Mythology of Scientists\n",
    "\n",
    "Though historians and philosophers of science have written much about the role of models in science and the cultural practices of modeling, scientists themselves have not paid great attention to this work and have only recently begun their own similar systematic investigations. Being generally estranged from the philosophy of science, the way scientists think about theory and the role of models has been largely influenced by folk stories and intuitions, and they have built up a mythology around these narratives. Much of this mythology of modeling is centered around the notion that models somehow *represent* the world. Surprisingly, these myths turn out to have a great deal of overlap with some of the most widely accepted analyses of modeling in philosophy of science. \n",
    "\n",
    "The idea that models represent the world is apparent in Eiko Fried's earlier statement that \"models serve as intermediaries between theories and the real world\". What could this mean? We'll take a look into two perspectives on the matter: the first perspective is the myth that most scientists (and quite a few philosophers) have concocted about what models are based on their intuitions about how language and math work, while the second is a more carefully considered approach based on observing the modeling practices of actual scientists. This second, more anthropological approach to understanding scientific models is a recent and not widely acknowledged development within philosophy of science, but I hope to show that it is the more accurate position.\n",
    "\n",
    "#### Rosen's Modeling Relation: The Myth of Correspondence\n",
    "\n",
    "Though there exist many diverse accounts of the idea that scientific models serve as representations of the world, each of these accounts sufficiently resembles the others so that we only need to look at one in depth. \n",
    "\n",
    "> Roughly speaking, a natural system comprises some aspect of the external world which we wish to study... It is perhaps best to begin our discussion of natural systems with our fundamental awareness of sensory impressions, which we shall collectively call *percepts*. These percepts are the basic stuff of science. It is at least plausible for us to believe that we do not entirely create these percepts, but rather discover them, through our experience of them. If we do not create them, then their source must lie, at least in part, outside of us, and thus we are led to the idea of an *external world*... The first obvious step in our characterization of a natural system can then be stated: *a natural system is a member or element of the external world*.\n",
    "\n",
    "Rosen makes some big assumptions about how perception works here. He is in good company though, as many philosophers and scientists who do not themselves study perception make similar assumptions. However, whenever such sweeping generalizations are made about something as complex as perception, we should be skeptical and tread carefully. \n",
    "\n",
    "Rosen then turns to formal systems. Rather than being part of the \"external world\" as natural systems are, Rosen tells us that formal systems are members of the world of mathematics. More specifically, he says\n",
    "\n",
    "> ... mathematical objects, however they may initially be created or generated, possess an existence of their own, and that this existence is different in character from that of a natural one. Furthermore, as we shall see, the world of mathematics really consists of two quite separate worlds, which are related to each other in very much the same way as the world of percepts is related to the external world. One of these mathematical worlds is populated by the familiar objects of mathematics: sets, groups, topological spaces, dynamical systems and the like; together with the mappings between them and the relations which they satisfy. The other world is populated with symbols and arrays of symbols. The fundamental relation between these two worlds is established by utilizing the symbols of the latter as names or labels for the entities in the former, and for regarding arrays of symbols in the latter as expressing propositions about the former. In this sense, the world of symbols becomes analogous to our previous world of percepts; while the world of mathematical objects becomes analogous to an external world which elicits percepts. The primary difference between the two situations (and it is an essential one) is that the mathematical worlds are entirely constructed by the creative faculty of the mind.\n",
    "\n",
    "Already we should be suspicious. What is this \"creative faculty of the mind\"? Why is the natural world being contrasted with some mental world of mathematics? Is mathematics not a human activity that takes place in the natural world? The assumptions that Rosen makes here set up a dualism between natural phenomena and mathematical models that is similar to the dualistic separation between mind and body often attributed to the 17th century philosopher René Descartes. \n",
    "\n",
    "Next, Rosen offers up what he calls *the modeling relation*, a description of how natural systems are related to formal systems. This description is meant to show how it is that formal models represent, or act as stand-ins, for the phenomena we study. Here's how Rosen talks about the modeling relation:\n",
    "\n",
    "> We have seen that even the study of formal systems is not free of strife and controversy; how much more strife can be expected when we attempt to relate this world to another of a fundamentally different character? And yet that is the task we now undertake; it is the basic task of relating experiment to theory. We shall proceed to develop a general framework in which formal and natural systems can be related, and then we shall discuss that framework in an informal way. The essential step in establishing the relations we seek, and indeed the key to all that follows, lies in an exploitation of synonymy. We are going to force the name of a percept to be also the name of a formal entity; we are going to force the name of a linkage between percepts to also be the name of a relation between mathematical entities; and most particularly, we are going to force the various temporal relations characteristic of causality in the natural world to be synonymous with the inferential structure which allows us to draw conclusions from premises in the mathematical world. We are going to try to do this in a way which is consistent between the two worlds; i.e. in such a way that the synonymies we establish do not lead us into contradictions between the properties of the formal system and those of the natural system we have forced the formal system to name. In short, we want our relations between formal and natural systems to be like the one Goethe postulated as between the genius and Nature: what the one promises, the other surely redeems. Another way to characterize what we are trying to do here is the following: we seek to encode natural systems into formal ones in a way which is consistent, in the above sense. Via such an encoding, if we are successful, the inferences or theorems we can elicit within these formal systems become predictions about the natural systems we have encoded into them; consistency then means that these predictions will be verified in the natural world when appropriately decoded into linkage relations in that world. And as we shall see, once such a relation between natural and formal systems has been established, a host of other important relations will follow of themselves; relations which will allow us to speak precisely about analogy, similarity, metaphor, complexity, and a spectrum of similar concepts. In this figure, the arrows labelled “encoding” and “decoding” represent correspondences between the observables and linkages comprising the natural system and symbols or propositions belonging to the formal system. Linkages between these observables are also encoded into relations between the corresponding propositions in the formal system. As we noted earlier, the rules of inference of the formal system, by means of which we can establish new propositions of that system as implications, must be re-interpreted (or decoded) in the form of specific assertions pertaining to the observables and linkages of the natural system; these are the predictions. If the assertions decoded in this fashion are verified by observation; or what is the same thing, if the observed behavior of the natural system encodes into the same propositions as those obtained from the inferential rules of the formal system, we shall say that (to that extent) the relation between the two systems which we have established, and which is diagrammed in Fig. 2.1, is a modeling relation. Under these circumstances, we shall also say that the formal system of Fig. 2.1, modulo the encoding and decoding rules in question, is a model of the natural system to which it is related by those rules.\n",
    "\n",
    "```{figure} rosen.png\n",
    ":name: rosen\n",
    "\n",
    "Rosen's Figure 2.5: the modeling relation.\n",
    "```\n",
    "\n",
    "But does every mathematical entity and operation in a model really correspond to some entity or process in the natural systems we study? Do our mathematical models actually represent those natural systems in a straightforward way as Rosen suggests? There are many reasons to think that this is not the case. Philosopher and physicist Erik Curiel has presented a list of nine problems for the idea that mathematics represents the natural world. I will not go through the whole list, but just cover a few of the important ones:\n",
    "\n",
    "1. **The complexity of the world.** Most mathematical models make so many simplifications and leave out so many details about the systems they model, it seems silly to think that they could represent the world. In general, useful mathematical models cannot and do not capture the complexity of the world, so they cannot represent it.\n",
    "\n",
    "2. **Levels of abstraction.** Theorists must make idealizations about the systems they study, must abstract away from the details so that they can construct understandable models. Theorists can make choices about what level of abstraction is admissable. But how abstract can a model be while still purporting to represent the world? Or, going in the other direction, how concrete must a model be to be a representation of the world?\n",
    "\n",
    "3. **\"Reading off\" the meaning of mathematics.** Not every mathematical entity or operation that shows up in our theories or models has physical significance. If the entity or operation does have some physical significance, this is not immediately apparent from the math, and needs to be interpreted by the modeler. Different modelers may have different interpretations. So in what sense does a model represent the physical world?\n",
    "\n",
    "4. **Same operation, different meanings.** The same mathematical operation may have different physical meanings in different investigative contexts (i.e. in models of different systems). If the mathematical operations have changing physical significance depending on context, then how can they be stable representations of the world?\n",
    "\n",
    "5. **Different formulations of the same theory.** Often, there are many different mathematical formulations of the same theory that are not equivalent to each other. If models represent, if they truly correspond to things and processes in natural systems, then surely different models of the same system should correspond to each other in the same way, right? But this is not the case.\n",
    "\n",
    "There are several more reasons, all interrelated, why we should doubt that mathematical models represent the world. If you would like to know more about these reasons, check out the lecture below by Erik Curiel:"
   ]
  },
  {
   "cell_type": "code",
   "execution_count": 2,
   "id": "9a0c17b7",
   "metadata": {
    "tags": [
     "hide-input"
    ]
   },
   "outputs": [
    {
     "data": {
      "image/jpeg": "[encoded data removed]",
      "text/html": [
       "\n",
       "<iframe\n",
       "    width=\"800\"\n",
       "    height=\"450\"\n",
       "    src=\"https://www.youtube.com/embed/aA_T20HAzyY\"\n",
       "    frameborder=\"0\"\n",
       "    allowfullscreen\n",
       "></iframe>\n"
      ],
      "text/plain": [
       "<IPython.lib.display.YouTubeVideo at 0x7f962c76fb10>"
      ]
     },
     "execution_count": 2,
     "metadata": {
      "filenames": {
       "image/jpeg": "/home/noahguzman/Dynamical_Neuro_Course/dynamical_neuro_book/_build/jupyter_execute/Prolegomena_3_0.jpg"
      }
     },
     "output_type": "execute_result"
    }
   ],
   "source": [
    "YouTubeVideo(\"aA_T20HAzyY\", width=800, height=450)"
   ]
  },
  {
   "cell_type": "markdown",
   "id": "d884093e",
   "metadata": {},
   "source": [
    "What, then, is the relationship of mathematical models to the systems they purport to be models of? In the next section, we will explore an alternative way of thinking about mathematical models and how they relate to the phenomena we study.\n",
    "\n",
    "#### The Math is Not the Territory\n",
    "\n",
    "In Greek mythology, sirens are half human, half bird creatures who lure sailors to their deaths with their enchantingly beautiful songs. In spite of its widespread usefulness, mathematics has the potential to be a siren song for the sciences, especially the biological sciences. Many mathematicians and physicists who have entered the domain of biology to try their hand at solving its problems have gotten swept up in the elegance of particular models or theories without any heed for their ability to explain actual phenomena. This problem is not unique to biology however; theoreticians in fields as mature as particle physics have been led astray by seeking simple and beautiful theories while ignoring the manifest complexity of the systems they study. \n",
    "\n",
    "Of course, the motives of individual scientists and scientific communities are incredibly varied, and I do not wish to suggest that all of biology or science as a whole should strive for a singular goal. But if we stray too far from actual systems, studying only models while crafting elegant fictions about how they might apply to those systems, we run the risk of what Polish-American scientist Alfred Korzybski called \"mistaking the map for the territory\". The meaning of this phrase is nicely illustrated in a short story \"On Exactitude in Science\" by the Argentine poet and author Jorge Luis Borges. In the story, the cartographers of an empire strive to make ever more exact maps of the empire's domain; before long, they have constructed a map on a 1:1 scale with the empire so that the map stretches across the whole territory. The story serves a two-fold purpose: to remind us that some amount of abstraction and idealization in models is necessary for them to be useful, but also that if we forget why we are making maps (models) in the first place, we may end up on obsessive missions making and studying maps that have no real use or relationship to the world. \n",
    "\n",
    "Maps help us to guide our interaction with the world. The maps, though part of the world, are not identical to the part of the world they are constructed to guide interaction with. As we have seen, in many cases there is good reason to doubt that they are even representations of the world or parts of it. So if models do not represent the world, how can they make accurate predictions about phenomena? The alternative perspective on theories and models that we will consider unfortunately does not answer this question, at least not in an obvious way. It does, however, answer the question of what we're doing when we make models and formulate theories, what models and theories are.\n",
    "\n",
    "This alternative perspective has emerged only recently. It considers mathematical models as mere tools for prediction. Suppose you are working on a construction site and someone hands you a hammer and says \"To use this, swing it in an arc and bring the head down on a nail\", you can use those instructions to guide your actions with respect to hammers and nails. But in no way do those verbal instructions represent hammers, nails, or the action of hammering a nail. They are just sounds (or patterns in light in the case of written instructions) that constrain your behavior. In this way, mathematical models are like instruction manuals that constrain and guide our behavior with respect to the experimental systems we study. Over the course of the history of mathematics and science, we have discovered patterns and developed rules that reliably and successfully guide our interaction with the world, with natural systems. Sometimes, when we use the right patterns, the right rules, we can successfully model the systems we wish to understand. In other words, we learn how to successfully interact with them, with the models acting to constrain those interactions. We model new systems, that is, find new mathematical patterns and rules to guide interaction with those systems, by analogizing them with systems we have successfully interacted with in the past.\n",
    "\n",
    "This story is not as satisfying as the first story about models representing the world. But, I believe that broadly, it is the more correct perspective on what theories and models are, one less plagued by philosophical difficulties. In the next chapter, I will introduce the principles of biological systems with an emphasis on neurobiology. This first chapter will lay a foundation for our study of dynamical models in neuroscience."
   ]
  }
 ],
 "metadata": {
  "jupytext": {
   "text_representation": {
    "extension": ".md",
    "format_name": "myst",
    "format_version": 0.13,
    "jupytext_version": "1.11.5"
   }
  },
  "kernelspec": {
   "display_name": "Python 3",
   "language": "python",
   "name": "python3"
  },
  "language_info": {
   "codemirror_mode": {
    "name": "ipython",
    "version": 3
   },
   "file_extension": ".py",
   "mimetype": "text/x-python",
   "name": "python",
   "nbconvert_exporter": "python",
   "pygments_lexer": "ipython3",
   "version": "3.7.7"
  },
  "source_map": [
   12,
   19,
   22,
   118,
   121
  ]
 },
 "nbformat": 4,
 "nbformat_minor": 5
}