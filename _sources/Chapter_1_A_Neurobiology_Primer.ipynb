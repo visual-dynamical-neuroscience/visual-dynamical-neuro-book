{
 "cells": [
  {
   "cell_type": "markdown",
   "id": "92e60a59",
   "metadata": {},
   "source": [
    "# Chapter 1: A Neurobiology Primer\n",
    "\n",
    "```{caution} This book was initially prepared on short notice and is an ongoing, ever-evolving project. Many of the ideas, simulations, and visualizations here are incomplete, and most are missing citations. If you feel that I have neglected to cite the proper sources, please do not be offended. It is more than likely that I am in the processes of adding the relevant citations.\n",
    "```"
   ]
  },
  {
   "cell_type": "markdown",
   "id": "f2fa3420",
   "metadata": {},
   "source": [
    "## What is Life?\n",
    "\n",
    "You may be wondering how we are going to address such a vast question in what is meant to be a short primer on the biology of the nervous system. The short answer is that we have no hope of doing so. The longer answer is that even though we cannot provide a comprehensive account of life and all its varied manifestations, This is, after all, a course on theoretical neurobiology, and to simply give a list of known facts about the living world would be antithetical to the aims and spirit of the course.\n",
    "\n",
    "### Schrödinger's Exploration\n",
    "\n",
    "\n",
    "### Life-Mind Continuity"
   ]
  },
  {
   "cell_type": "markdown",
   "id": "c79a245e",
   "metadata": {},
   "source": [
    "## The Facts of the Matter\n",
    "\n",
    "Despite wanting to present biology as more than just a stamp collection or list of facts to memorize, we do need a shared vocabulary and set of concepts to work with before we can start doing some modeling. In this section, I hope to provide an engaging overview of a few biological principles that will aid in your understanding of neurobiology. So that you don't get overwhelmed or find yourself asking why you need to know any of this, I have chosen to cover only what you'll need to understand the models we'll be working with. Unfortunately, this means I'll be glossing over a whole universe of interesting phenomena and processes that are critically important for appreciating and explaining the full complexity of life. Hopefully, there's enough information here for you to fill in the details with your own research.\n",
    "\n",
    "### Cells\n",
    "\n",
    "I will assume that the vast majority of you will at some point have taken a middle school or high school biology class so that I can comfortably use the word \"cell\" without having to explicitly define it.\n",
    "\n",
    "### Biological Macromolecules\n",
    "\n",
    "\n",
    "### Are Cells Machines?\n",
    "\n",
    "\n",
    "### Nervous Systems"
   ]
  },
  {
   "cell_type": "code",
   "execution_count": null,
   "id": "328ef1cf",
   "metadata": {},
   "outputs": [],
   "source": []
  }
 ],
 "metadata": {
  "jupytext": {
   "text_representation": {
    "extension": ".md",
    "format_name": "myst",
    "format_version": 0.13,
    "jupytext_version": "1.11.5"
   }
  },
  "kernelspec": {
   "display_name": "Python 3",
   "language": "python",
   "name": "python3"
  },
  "language_info": {
   "codemirror_mode": {
    "name": "ipython",
    "version": 3
   },
   "file_extension": ".py",
   "mimetype": "text/x-python",
   "name": "python",
   "nbconvert_exporter": "python",
   "pygments_lexer": "ipython3",
   "version": "3.7.7"
  },
  "source_map": [
   12,
   19,
   30,
   48
  ]
 },
 "nbformat": 4,
 "nbformat_minor": 5
}